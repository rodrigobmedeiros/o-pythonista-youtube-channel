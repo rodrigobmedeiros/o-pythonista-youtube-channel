{
 "cells": [
  {
   "cell_type": "code",
   "execution_count": 1,
   "id": "341dfd1d",
   "metadata": {},
   "outputs": [],
   "source": [
    "from functools import total_ordering\n",
    "\n",
    "@total_ordering\n",
    "class Player():\n",
    "    \n",
    "    def __init__(self, name, points):\n",
    "        \n",
    "        self.name = name\n",
    "        self.points = points\n",
    "        \n",
    "    def __lt__(self, other):\n",
    "        \n",
    "        return self.points < other.points\n",
    "    \n",
    "    def __eq__(self, other):\n",
    "        \n",
    "        return self.points == other.points"
   ]
  },
  {
   "cell_type": "code",
   "execution_count": 2,
   "id": "4ef72c62",
   "metadata": {},
   "outputs": [],
   "source": [
    "player_1 = Player('Rodrigo', 1000)\n",
    "player_2 = Player('Renata', 500)"
   ]
  },
  {
   "cell_type": "code",
   "execution_count": 3,
   "id": "f0f93c64",
   "metadata": {},
   "outputs": [
    {
     "data": {
      "text/plain": [
       "False"
      ]
     },
     "execution_count": 3,
     "metadata": {},
     "output_type": "execute_result"
    }
   ],
   "source": [
    "player_1 < player_2"
   ]
  },
  {
   "cell_type": "code",
   "execution_count": 4,
   "id": "5c0259e1",
   "metadata": {},
   "outputs": [
    {
     "data": {
      "text/plain": [
       "False"
      ]
     },
     "execution_count": 4,
     "metadata": {},
     "output_type": "execute_result"
    }
   ],
   "source": [
    "player_1 == player_2"
   ]
  },
  {
   "cell_type": "code",
   "execution_count": 5,
   "id": "49daa322",
   "metadata": {},
   "outputs": [
    {
     "data": {
      "text/plain": [
       "True"
      ]
     },
     "execution_count": 5,
     "metadata": {},
     "output_type": "execute_result"
    }
   ],
   "source": [
    "player_1 > player_2"
   ]
  },
  {
   "cell_type": "code",
   "execution_count": 6,
   "id": "c4c237ad",
   "metadata": {},
   "outputs": [
    {
     "data": {
      "text/plain": [
       "False"
      ]
     },
     "execution_count": 6,
     "metadata": {},
     "output_type": "execute_result"
    }
   ],
   "source": [
    "player_1 <= player_2"
   ]
  },
  {
   "cell_type": "code",
   "execution_count": 7,
   "id": "b7dd4e63",
   "metadata": {},
   "outputs": [
    {
     "data": {
      "text/plain": [
       "True"
      ]
     },
     "execution_count": 7,
     "metadata": {},
     "output_type": "execute_result"
    }
   ],
   "source": [
    "player_1 >= player_2"
   ]
  },
  {
   "cell_type": "code",
   "execution_count": null,
   "id": "aee94cde",
   "metadata": {},
   "outputs": [],
   "source": []
  },
  {
   "cell_type": "code",
   "execution_count": null,
   "id": "9c17d106",
   "metadata": {},
   "outputs": [],
   "source": []
  },
  {
   "cell_type": "code",
   "execution_count": null,
   "id": "c5b39d87",
   "metadata": {},
   "outputs": [],
   "source": []
  }
 ],
 "metadata": {
  "kernelspec": {
   "display_name": "Python 3",
   "language": "python",
   "name": "python3"
  },
  "language_info": {
   "codemirror_mode": {
    "name": "ipython",
    "version": 3
   },
   "file_extension": ".py",
   "mimetype": "text/x-python",
   "name": "python",
   "nbconvert_exporter": "python",
   "pygments_lexer": "ipython3",
   "version": "3.8.8"
  }
 },
 "nbformat": 4,
 "nbformat_minor": 5
}
