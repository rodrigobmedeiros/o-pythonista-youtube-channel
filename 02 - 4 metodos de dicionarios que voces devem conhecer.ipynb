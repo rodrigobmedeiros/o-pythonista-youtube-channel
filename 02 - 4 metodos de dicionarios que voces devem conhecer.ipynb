{
 "cells": [
  {
   "cell_type": "code",
   "execution_count": 4,
   "id": "14a3c505",
   "metadata": {},
   "outputs": [],
   "source": [
    "person = {\n",
    "    'name': 'rodrigo',\n",
    "    'address': 'rua dos bobos',\n",
    "    'number': 'zero'\n",
    "}\n"
   ]
  },
  {
   "cell_type": "code",
   "execution_count": 14,
   "id": "ba958ed0",
   "metadata": {},
   "outputs": [],
   "source": [
    "palavra = 'abbcccddddeeeee'"
   ]
  },
  {
   "cell_type": "code",
   "execution_count": 15,
   "id": "5fffa376",
   "metadata": {},
   "outputs": [],
   "source": [
    "counter = {}\n",
    "\n",
    "for char in palavra:\n",
    "    \n",
    "    counter[char] = counter.get(char, 0) + 1\n",
    "    "
   ]
  },
  {
   "cell_type": "code",
   "execution_count": 16,
   "id": "3df5db3b",
   "metadata": {},
   "outputs": [
    {
     "data": {
      "text/plain": [
       "{'a': 1, 'b': 2, 'c': 3, 'd': 4, 'e': 5}"
      ]
     },
     "execution_count": 16,
     "metadata": {},
     "output_type": "execute_result"
    }
   ],
   "source": [
    "counter"
   ]
  },
  {
   "cell_type": "code",
   "execution_count": 18,
   "id": "7e565d16",
   "metadata": {},
   "outputs": [
    {
     "data": {
      "text/plain": [
       "False"
      ]
     },
     "execution_count": 18,
     "metadata": {},
     "output_type": "execute_result"
    }
   ],
   "source": [
    "'x' in counter"
   ]
  },
  {
   "cell_type": "code",
   "execution_count": null,
   "id": "b717385d",
   "metadata": {},
   "outputs": [],
   "source": []
  }
 ],
 "metadata": {
  "kernelspec": {
   "display_name": "Python 3",
   "language": "python",
   "name": "python3"
  },
  "language_info": {
   "codemirror_mode": {
    "name": "ipython",
    "version": 3
   },
   "file_extension": ".py",
   "mimetype": "text/x-python",
   "name": "python",
   "nbconvert_exporter": "python",
   "pygments_lexer": "ipython3",
   "version": "3.8.8"
  }
 },
 "nbformat": 4,
 "nbformat_minor": 5
}
