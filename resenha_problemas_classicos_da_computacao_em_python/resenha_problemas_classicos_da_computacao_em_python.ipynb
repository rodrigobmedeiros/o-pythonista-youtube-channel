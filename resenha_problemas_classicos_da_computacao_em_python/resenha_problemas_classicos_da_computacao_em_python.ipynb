{
 "cells": [
  {
   "cell_type": "markdown",
   "id": "b9a7a566",
   "metadata": {},
   "source": [
    "# Roteiro `Problemas Classicos da Ciencia da Computação com Python`\n",
    "\n",
    "Este é um livro de David Kopec, que aborda alguns problema classicos da ciencia da computação com python. Como o próprio nome diz. Tenho sempre visto esse livro no site da amazon e tals o que é um vício até que finalmente comprei. Hoje em dia tenho preferido estudar mais por livros acho que me prende mais, eu fico mais focado enfim é só questão de escolha. \n",
    "Tenho até em mente um vídeo onde falo sobre plataformas online de estudo tanto de cursos como de conteudos especificos sobre python. Se vcs acham que seria interessante falar sobre isso, por favor deixem suas opiniões nos comentários.\n",
    "Então vamos lá, neste livro, são 9 capitulos abordando diferentes tipos de problemas, desde os mais simples como um fibonacci, torres de hanoi, e compressao de dados, passando por algoritmos de busca, busca competitiva, clusters, redes neurais, grafos e problemas famosos como o do caixeiro viajante.\n",
    "\n",
    "capitulo 2 são abordados algoritmos de busca, como busca em profundidade, busca em largura e resolvendo problemas de resolução de labirintos.\\\n",
    "\n",
    "capitulo 3 que fala sobre problemas de satusfação de restrições sendo um dos problemas resolvidos o problema das 8 rainhas onde são colocadas 8 rainhas em um tabuleira de xadrez e vc deve posiciona-las de modo que uma não possa capturar a outra.\\\n",
    "\n",
    "capitulo 4 - Fala sobre grafos, onde um framework é construido passo a passo e resolvendo problemas onde são necessários calcular caminhos mínimos.\n",
    "\\\n",
    "\n",
    "e muito mais\\\n",
    "k-means\\\n",
    "redes neurais\\\n",
    "busca competitiva: jogo de damas e connect four (lig 4) onde vc constroi uma inteligencia artificial que é capaz de prever as próximas jogadas.\n",
    "\n",
    "E fecha falando sobre 2 problemas bem clássicos que é o problema da mochila (knapsack problem) que basicamente é um problema de otimização onde é necessário encontrar o melhor uso de recursos limitados dado um conjunto finito de opções de uso. Sendo que o problema é bem mais legal pois fala em um ladrão que entra em uma casa e tem que levar o que ele quiser roubas em uma mochila sendo que vc tem um limite de peso por exemplo que  é o que a mochila aguenta e o quanto cada item vale, para poucos itens é ok resolver vc vai na força bruta e tudo mais porém é um problema complexo que aumenta muito a ordem de grandeza conforme vc aumenta a quantidade de itens. E fecha com o problema do caixeiro viajante onde vc tem que viajar por todas as cidades de um mapa, visitando cada uma delas apenas uma vez e retornando ao ponto de partida no final da jornada.\n",
    "\n",
    "O livro é muito legal de acompanhar, todos os códigos são bem detalhados no final de cada capítulo tem exercícios para implementar novas funcionalidades ao que já foi desenvolvido. Então vc tem ali desafios a mais. \n",
    "Não é um livro para iniciantes, não se preocupa em explicar coisas mais básicas como por exemplo como alocar variáveis, como criar uma função, como funciona um loop, como trabalhar com condicionais... então parte-se do principio que quem pegou esse livro já sabe isso.\n",
    "\n",
    "Outro ponto bastante positivo é a preocupação na modularização e reutilização do código, o autor tem sempre o cuidado de deixar o código mais genérico possível de modo que possa ser utilizado para resolver outros problemas e não só aqueles propostos no livro. \n",
    "Com isso, utiliza-se bastante o paradigma de orientação a objetos então vale pra entende e aprofundar ainda mais os conhecimentos sobre isso. E por fim, o autor usa em todos os desenvolvimentos a tipagem, ou seja mesmo python sendo uma linguagem de tipagem dinâmica, são definidos tipos para todas as variáveis, na assinatura das funções, no retorno delas, enfim é muito bacana entender um pouco mais essa parte sobre tipagem que se não me engano vem disponivel desde a versão 3.5 e a cada versão que passa tem ganhando mais elementos. Eu particularmente não tinha pegado ainda códigos muito rigorosos com relação a isso, eu mesmo sabia algo bem básico mas que evoluiu bastante conforme fui fazendo as implementações do livro e isso foi muito muito bacana. Mais uma ferramenta que entrou pra caixinha de ferramentas pythonicas. \n",
    "\n",
    "Bom, é isso pessoal, esta foi a resenha sobre o livro problemas clássicos da ciencia da computação com python do Dvid Kopec, eu curti, achei muito legal, livro leve, com implementações detalhadas que dá pra aprender demais e super recomendo se vc já não é tão iniciante assim em python. Eu vou deixar o link do livro na amazon pra vcs na descrição do vídeo.\n",
    "\n",
    "Então pessoal,\n",
    "\n",
    "Espero que vcs tenham gostado, podem deixar quaisquer dúvidas nos comentários que procuro responder todos e não deixem de se inscrever no canal, e marcar o sininho das notificações pra ficar sempre ligado nos próximos lançamentos muito obrigado e abraços."
   ]
  }
 ],
 "metadata": {
  "kernelspec": {
   "display_name": "Python 3",
   "language": "python",
   "name": "python3"
  },
  "language_info": {
   "codemirror_mode": {
    "name": "ipython",
    "version": 3
   },
   "file_extension": ".py",
   "mimetype": "text/x-python",
   "name": "python",
   "nbconvert_exporter": "python",
   "pygments_lexer": "ipython3",
   "version": "3.8.8"
  }
 },
 "nbformat": 4,
 "nbformat_minor": 5
}
